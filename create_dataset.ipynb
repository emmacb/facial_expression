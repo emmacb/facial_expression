{
 "cells": [
  {
   "cell_type": "code",
   "execution_count": 1,
   "metadata": {
    "collapsed": false,
    "deletable": true,
    "editable": true
   },
   "outputs": [],
   "source": [
    "import pandas as pd\n",
    "import numpy as np\n",
    "from sklearn.model_selection import train_test_split\n",
    "\n",
    "\n",
    "# data = pd.read_csv(\"Manually_Annotated_file_lists/training.csv\")\n"
   ]
  },
  {
   "cell_type": "code",
   "execution_count": 18,
   "metadata": {
    "collapsed": false,
    "deletable": true,
    "editable": true
   },
   "outputs": [],
   "source": [
    "data[\"face_x\"] = data[\"face_x\"].astype(np.int32)\n",
    "data[\"face_y\"] = data[\"face_y\"].astype(np.int32)\n",
    "data[\"face_width\"] = data[\"face_width\"].astype(np.int32)\n",
    "data[\"face_height\"] = data[\"face_height\"].astype(np.int32)\n",
    "data[\"expression\"] = data[\"expression\"].astype(\"category\")"
   ]
  },
  {
   "cell_type": "code",
   "execution_count": 8,
   "metadata": {
    "collapsed": false,
    "deletable": true,
    "editable": true
   },
   "outputs": [],
   "source": [
    "data = data[data[\"expression\"] < 8]"
   ]
  },
  {
   "cell_type": "code",
   "execution_count": 24,
   "metadata": {
    "collapsed": false,
    "deletable": true,
    "editable": true
   },
   "outputs": [
    {
     "data": {
      "text/html": [
       "<div>\n",
       "<style>\n",
       "    .dataframe thead tr:only-child th {\n",
       "        text-align: right;\n",
       "    }\n",
       "\n",
       "    .dataframe thead th {\n",
       "        text-align: left;\n",
       "    }\n",
       "\n",
       "    .dataframe tbody tr th {\n",
       "        vertical-align: top;\n",
       "    }\n",
       "</style>\n",
       "<table border=\"1\" class=\"dataframe\">\n",
       "  <thead>\n",
       "    <tr style=\"text-align: right;\">\n",
       "      <th></th>\n",
       "      <th>subDirectory_filePath</th>\n",
       "      <th>face_x</th>\n",
       "      <th>face_y</th>\n",
       "      <th>face_width</th>\n",
       "      <th>face_height</th>\n",
       "      <th>facial_landmarks</th>\n",
       "      <th>expression</th>\n",
       "      <th>valence</th>\n",
       "      <th>arousal</th>\n",
       "    </tr>\n",
       "  </thead>\n",
       "  <tbody>\n",
       "    <tr>\n",
       "      <th>414793</th>\n",
       "      <td>713/6f32a21c80cd0ee3368737782175bd0e0e78eb4566...</td>\n",
       "      <td>37</td>\n",
       "      <td>37</td>\n",
       "      <td>252</td>\n",
       "      <td>252</td>\n",
       "      <td>78.65;119.86;75.44;150.02;72.79;178.85;73.69;2...</td>\n",
       "      <td>2</td>\n",
       "      <td>-0.468254</td>\n",
       "      <td>-0.206349</td>\n",
       "    </tr>\n",
       "    <tr>\n",
       "      <th>414794</th>\n",
       "      <td>718/66c1886c5a0d828f175383c09d6f7abc1df28e4dc8...</td>\n",
       "      <td>18</td>\n",
       "      <td>18</td>\n",
       "      <td>221</td>\n",
       "      <td>221</td>\n",
       "      <td>37.27;98.81;36.76;128.05;39.84;158.31;45.42;18...</td>\n",
       "      <td>0</td>\n",
       "      <td>-0.056073</td>\n",
       "      <td>0.142340</td>\n",
       "    </tr>\n",
       "    <tr>\n",
       "      <th>414795</th>\n",
       "      <td>1215/65e2c4fe91780f417c0edf3c71561d0e41e4db248...</td>\n",
       "      <td>52</td>\n",
       "      <td>52</td>\n",
       "      <td>348</td>\n",
       "      <td>348</td>\n",
       "      <td>83.9;225.92;88.93;260.62;97.28;296.78;108.34;3...</td>\n",
       "      <td>2</td>\n",
       "      <td>-0.662960</td>\n",
       "      <td>-0.249501</td>\n",
       "    </tr>\n",
       "    <tr>\n",
       "      <th>414796</th>\n",
       "      <td>375/a0077b9ae7ab3fd9241dd0775cb9f88c1d8913c7af...</td>\n",
       "      <td>49</td>\n",
       "      <td>49</td>\n",
       "      <td>330</td>\n",
       "      <td>330</td>\n",
       "      <td>106.87;161.43;105.49;191.66;109.81;224.48;113....</td>\n",
       "      <td>2</td>\n",
       "      <td>-0.833333</td>\n",
       "      <td>-0.380952</td>\n",
       "    </tr>\n",
       "    <tr>\n",
       "      <th>414797</th>\n",
       "      <td>606/08e4e677c377461ec5400d74b4fd07dd6454cf2d7e...</td>\n",
       "      <td>28</td>\n",
       "      <td>28</td>\n",
       "      <td>191</td>\n",
       "      <td>191</td>\n",
       "      <td>52.53;97.98;50.5;116.98;50.65;136.12;53.3;155....</td>\n",
       "      <td>1</td>\n",
       "      <td>0.542562</td>\n",
       "      <td>-0.015803</td>\n",
       "    </tr>\n",
       "  </tbody>\n",
       "</table>\n",
       "</div>"
      ],
      "text/plain": [
       "                                    subDirectory_filePath  face_x  face_y  \\\n",
       "414793  713/6f32a21c80cd0ee3368737782175bd0e0e78eb4566...      37      37   \n",
       "414794  718/66c1886c5a0d828f175383c09d6f7abc1df28e4dc8...      18      18   \n",
       "414795  1215/65e2c4fe91780f417c0edf3c71561d0e41e4db248...      52      52   \n",
       "414796  375/a0077b9ae7ab3fd9241dd0775cb9f88c1d8913c7af...      49      49   \n",
       "414797  606/08e4e677c377461ec5400d74b4fd07dd6454cf2d7e...      28      28   \n",
       "\n",
       "        face_width  face_height  \\\n",
       "414793         252          252   \n",
       "414794         221          221   \n",
       "414795         348          348   \n",
       "414796         330          330   \n",
       "414797         191          191   \n",
       "\n",
       "                                         facial_landmarks expression  \\\n",
       "414793  78.65;119.86;75.44;150.02;72.79;178.85;73.69;2...          2   \n",
       "414794  37.27;98.81;36.76;128.05;39.84;158.31;45.42;18...          0   \n",
       "414795  83.9;225.92;88.93;260.62;97.28;296.78;108.34;3...          2   \n",
       "414796  106.87;161.43;105.49;191.66;109.81;224.48;113....          2   \n",
       "414797  52.53;97.98;50.5;116.98;50.65;136.12;53.3;155....          1   \n",
       "\n",
       "         valence   arousal  \n",
       "414793 -0.468254 -0.206349  \n",
       "414794 -0.056073  0.142340  \n",
       "414795 -0.662960 -0.249501  \n",
       "414796 -0.833333 -0.380952  \n",
       "414797  0.542562 -0.015803  "
      ]
     },
     "execution_count": 24,
     "metadata": {},
     "output_type": "execute_result"
    }
   ],
   "source": [
    "data.tail()"
   ]
  },
  {
   "cell_type": "code",
   "execution_count": 22,
   "metadata": {
    "collapsed": false,
    "deletable": true,
    "editable": true
   },
   "outputs": [
    {
     "data": {
      "text/plain": [
       "313.23084831237793"
      ]
     },
     "execution_count": 22,
     "metadata": {},
     "output_type": "execute_result"
    }
   ],
   "source": [
    "#data.memory_usage(index=True, deep=True)\n",
    "data.memory_usage(index=True,deep=True).sum()/(1024*1024)"
   ]
  },
  {
   "cell_type": "code",
   "execution_count": 19,
   "metadata": {
    "collapsed": false,
    "deletable": true,
    "editable": true
   },
   "outputs": [
    {
     "name": "stdout",
     "output_type": "stream",
     "text": [
      "<class 'pandas.core.frame.DataFrame'>\n",
      "Int64Index: 287651 entries, 0 to 414797\n",
      "Data columns (total 9 columns):\n",
      "subDirectory_filePath    287651 non-null object\n",
      "face_x                   287651 non-null int32\n",
      "face_y                   287651 non-null int32\n",
      "face_width               287651 non-null int32\n",
      "face_height              287651 non-null int32\n",
      "facial_landmarks         287651 non-null object\n",
      "expression               287651 non-null category\n",
      "valence                  287651 non-null float64\n",
      "arousal                  287651 non-null float64\n",
      "dtypes: category(1), float64(2), int32(4), object(2)\n",
      "memory usage: 15.6+ MB\n"
     ]
    }
   ],
   "source": [
    "data.info()"
   ]
  },
  {
   "cell_type": "code",
   "execution_count": 21,
   "metadata": {
    "collapsed": false,
    "deletable": true,
    "editable": true
   },
   "outputs": [
    {
     "data": {
      "text/html": [
       "<div>\n",
       "<style>\n",
       "    .dataframe thead tr:only-child th {\n",
       "        text-align: right;\n",
       "    }\n",
       "\n",
       "    .dataframe thead th {\n",
       "        text-align: left;\n",
       "    }\n",
       "\n",
       "    .dataframe tbody tr th {\n",
       "        vertical-align: top;\n",
       "    }\n",
       "</style>\n",
       "<table border=\"1\" class=\"dataframe\">\n",
       "  <thead>\n",
       "    <tr style=\"text-align: right;\">\n",
       "      <th></th>\n",
       "      <th>face_x</th>\n",
       "      <th>face_y</th>\n",
       "      <th>face_width</th>\n",
       "      <th>face_height</th>\n",
       "      <th>valence</th>\n",
       "      <th>arousal</th>\n",
       "    </tr>\n",
       "  </thead>\n",
       "  <tbody>\n",
       "    <tr>\n",
       "      <th>count</th>\n",
       "      <td>287651.000000</td>\n",
       "      <td>287651.000000</td>\n",
       "      <td>287651.000000</td>\n",
       "      <td>287651.000000</td>\n",
       "      <td>287651.000000</td>\n",
       "      <td>287651.000000</td>\n",
       "    </tr>\n",
       "    <tr>\n",
       "      <th>mean</th>\n",
       "      <td>57.007363</td>\n",
       "      <td>57.007363</td>\n",
       "      <td>430.387386</td>\n",
       "      <td>430.387386</td>\n",
       "      <td>0.188735</td>\n",
       "      <td>0.118424</td>\n",
       "    </tr>\n",
       "    <tr>\n",
       "      <th>std</th>\n",
       "      <td>49.187889</td>\n",
       "      <td>49.187889</td>\n",
       "      <td>347.106892</td>\n",
       "      <td>347.106892</td>\n",
       "      <td>0.517193</td>\n",
       "      <td>0.301994</td>\n",
       "    </tr>\n",
       "    <tr>\n",
       "      <th>min</th>\n",
       "      <td>0.000000</td>\n",
       "      <td>0.000000</td>\n",
       "      <td>130.000000</td>\n",
       "      <td>130.000000</td>\n",
       "      <td>-0.999081</td>\n",
       "      <td>-0.971666</td>\n",
       "    </tr>\n",
       "    <tr>\n",
       "      <th>25%</th>\n",
       "      <td>25.000000</td>\n",
       "      <td>25.000000</td>\n",
       "      <td>198.000000</td>\n",
       "      <td>198.000000</td>\n",
       "      <td>-0.179055</td>\n",
       "      <td>-0.055556</td>\n",
       "    </tr>\n",
       "    <tr>\n",
       "      <th>50%</th>\n",
       "      <td>40.000000</td>\n",
       "      <td>40.000000</td>\n",
       "      <td>309.000000</td>\n",
       "      <td>309.000000</td>\n",
       "      <td>0.206349</td>\n",
       "      <td>0.069013</td>\n",
       "    </tr>\n",
       "    <tr>\n",
       "      <th>75%</th>\n",
       "      <td>74.000000</td>\n",
       "      <td>74.000000</td>\n",
       "      <td>542.000000</td>\n",
       "      <td>542.000000</td>\n",
       "      <td>0.654762</td>\n",
       "      <td>0.229129</td>\n",
       "    </tr>\n",
       "    <tr>\n",
       "      <th>max</th>\n",
       "      <td>702.000000</td>\n",
       "      <td>702.000000</td>\n",
       "      <td>4724.000000</td>\n",
       "      <td>4724.000000</td>\n",
       "      <td>0.999081</td>\n",
       "      <td>0.996903</td>\n",
       "    </tr>\n",
       "  </tbody>\n",
       "</table>\n",
       "</div>"
      ],
      "text/plain": [
       "              face_x         face_y     face_width    face_height  \\\n",
       "count  287651.000000  287651.000000  287651.000000  287651.000000   \n",
       "mean       57.007363      57.007363     430.387386     430.387386   \n",
       "std        49.187889      49.187889     347.106892     347.106892   \n",
       "min         0.000000       0.000000     130.000000     130.000000   \n",
       "25%        25.000000      25.000000     198.000000     198.000000   \n",
       "50%        40.000000      40.000000     309.000000     309.000000   \n",
       "75%        74.000000      74.000000     542.000000     542.000000   \n",
       "max       702.000000     702.000000    4724.000000    4724.000000   \n",
       "\n",
       "             valence        arousal  \n",
       "count  287651.000000  287651.000000  \n",
       "mean        0.188735       0.118424  \n",
       "std         0.517193       0.301994  \n",
       "min        -0.999081      -0.971666  \n",
       "25%        -0.179055      -0.055556  \n",
       "50%         0.206349       0.069013  \n",
       "75%         0.654762       0.229129  \n",
       "max         0.999081       0.996903  "
      ]
     },
     "execution_count": 21,
     "metadata": {},
     "output_type": "execute_result"
    }
   ],
   "source": [
    "data.describe()"
   ]
  },
  {
   "cell_type": "code",
   "execution_count": 74,
   "metadata": {
    "collapsed": true,
    "deletable": true,
    "editable": true
   },
   "outputs": [],
   "source": [
    "category_7 = data[data['expression'] == 7]"
   ]
  },
  {
   "cell_type": "code",
   "execution_count": 81,
   "metadata": {
    "collapsed": false,
    "deletable": true,
    "editable": true
   },
   "outputs": [
    {
     "data": {
      "text/plain": [
       "81.51231861114502"
      ]
     },
     "execution_count": 81,
     "metadata": {},
     "output_type": "execute_result"
    }
   ],
   "source": [
    "category_0.memory_usage(deep=True, index=True).sum()/(1024*1024)"
   ]
  },
  {
   "cell_type": "code",
   "execution_count": 76,
   "metadata": {
    "collapsed": false,
    "deletable": true,
    "editable": true
   },
   "outputs": [],
   "source": [
    "\n",
    "train_7, test_7 = train_test_split(category_7, test_size=0.2)"
   ]
  },
  {
   "cell_type": "code",
   "execution_count": 77,
   "metadata": {
    "collapsed": false,
    "deletable": true,
    "editable": true
   },
   "outputs": [
    {
     "name": "stdout",
     "output_type": "stream",
     "text": [
      "(3000, 9) (750, 9) (3750, 9)\n"
     ]
    }
   ],
   "source": [
    "print(train_7.shape, test_7.shape, category_7.shape)"
   ]
  },
  {
   "cell_type": "code",
   "execution_count": 79,
   "metadata": {
    "collapsed": true,
    "deletable": true,
    "editable": true
   },
   "outputs": [],
   "source": [
    "train_7.to_csv(\"train_7.csv\")"
   ]
  },
  {
   "cell_type": "code",
   "execution_count": 84,
   "metadata": {
    "collapsed": false,
    "deletable": true,
    "editable": true
   },
   "outputs": [
    {
     "name": "stdout",
     "output_type": "stream",
     "text": [
      "(59899, 9) (107532, 9) (20367, 9) (11272, 9) (5102, 9) (3042, 9) (19905, 9) (3000, 9)\n"
     ]
    }
   ],
   "source": [
    "print(train_0.shape,train_1.shape,train_2.shape,train_3.shape,train_4.shape,train_5.shape,train_6.shape,train_7.shape)"
   ]
  },
  {
   "cell_type": "code",
   "execution_count": 85,
   "metadata": {
    "collapsed": true,
    "deletable": true,
    "editable": true
   },
   "outputs": [],
   "source": [
    "final_train_set = pd.concat([train_0,train_1,train_2,train_3,train_4,train_5,train_6,train_7])"
   ]
  },
  {
   "cell_type": "code",
   "execution_count": 89,
   "metadata": {
    "collapsed": false,
    "deletable": true,
    "editable": true
   },
   "outputs": [
    {
     "data": {
      "text/plain": [
       "(230119, 9)"
      ]
     },
     "execution_count": 89,
     "metadata": {},
     "output_type": "execute_result"
    }
   ],
   "source": [
    "final_train_set.shape"
   ]
  },
  {
   "cell_type": "code",
   "execution_count": 90,
   "metadata": {
    "collapsed": true,
    "deletable": true,
    "editable": true
   },
   "outputs": [],
   "source": [
    "final_test_set = pd.concat([test_0,test_1,test_2,test_3,test_4,test_5,test_6,test_7])"
   ]
  },
  {
   "cell_type": "code",
   "execution_count": 94,
   "metadata": {
    "collapsed": false,
    "deletable": true,
    "editable": true
   },
   "outputs": [
    {
     "data": {
      "text/plain": [
       "(57532, 9)"
      ]
     },
     "execution_count": 94,
     "metadata": {},
     "output_type": "execute_result"
    }
   ],
   "source": [
    "final_test_set.shape"
   ]
  },
  {
   "cell_type": "code",
   "execution_count": 93,
   "metadata": {
    "collapsed": false,
    "deletable": true,
    "editable": true
   },
   "outputs": [],
   "source": [
    "final_test_set = final_test_set.sample(frac=1).reset_index(drop=True)"
   ]
  },
  {
   "cell_type": "code",
   "execution_count": 97,
   "metadata": {
    "collapsed": false,
    "deletable": true,
    "editable": true
   },
   "outputs": [],
   "source": [
    "final_test_set.to_csv(\"final_test_set.csv\")"
   ]
  },
  {
   "cell_type": "code",
   "execution_count": 99,
   "metadata": {
    "collapsed": false,
    "deletable": true,
    "editable": true
   },
   "outputs": [],
   "source": [
    "final_train_set = final_train_set.sample(frac=1).reset_index(drop=True)"
   ]
  },
  {
   "cell_type": "code",
   "execution_count": 103,
   "metadata": {
    "collapsed": false,
    "deletable": true,
    "editable": true
   },
   "outputs": [],
   "source": [
    "final_train_set.to_csv(\"final_train_set.csv\")"
   ]
  },
  {
   "cell_type": "code",
   "execution_count": 105,
   "metadata": {
    "collapsed": false,
    "deletable": true,
    "editable": true
   },
   "outputs": [],
   "source": [
    "input = pd.read_csv(\"final_test_set.csv\")"
   ]
  },
  {
   "cell_type": "code",
   "execution_count": 18,
   "metadata": {
    "collapsed": false,
    "deletable": true,
    "editable": true
   },
   "outputs": [
    {
     "ename": "AttributeError",
     "evalue": "'function' object has no attribute 'info'",
     "output_type": "error",
     "traceback": [
      "\u001b[1;31m---------------------------------------------------------------------------\u001b[0m",
      "\u001b[1;31mAttributeError\u001b[0m                            Traceback (most recent call last)",
      "\u001b[1;32m<ipython-input-18-b2a62486fef6>\u001b[0m in \u001b[0;36m<module>\u001b[1;34m()\u001b[0m\n\u001b[1;32m----> 1\u001b[1;33m \u001b[0minput\u001b[0m\u001b[1;33m.\u001b[0m\u001b[0minfo\u001b[0m\u001b[1;33m(\u001b[0m\u001b[1;33m)\u001b[0m\u001b[1;33m\u001b[0m\u001b[0m\n\u001b[0m",
      "\u001b[1;31mAttributeError\u001b[0m: 'function' object has no attribute 'info'"
     ]
    }
   ],
   "source": []
  },
  {
   "cell_type": "code",
   "execution_count": 10,
   "metadata": {
    "collapsed": true,
    "deletable": true,
    "editable": true
   },
   "outputs": [],
   "source": [
    "final_train_set = pd.read_csv(\"final_train_set.csv\")"
   ]
  },
  {
   "cell_type": "code",
   "execution_count": 12,
   "metadata": {
    "collapsed": false,
    "deletable": true,
    "editable": true
   },
   "outputs": [
    {
     "data": {
      "text/html": [
       "<div>\n",
       "<style>\n",
       "    .dataframe thead tr:only-child th {\n",
       "        text-align: right;\n",
       "    }\n",
       "\n",
       "    .dataframe thead th {\n",
       "        text-align: left;\n",
       "    }\n",
       "\n",
       "    .dataframe tbody tr th {\n",
       "        vertical-align: top;\n",
       "    }\n",
       "</style>\n",
       "<table border=\"1\" class=\"dataframe\">\n",
       "  <thead>\n",
       "    <tr style=\"text-align: right;\">\n",
       "      <th></th>\n",
       "      <th>Unnamed: 0</th>\n",
       "      <th>subDirectory_filePath</th>\n",
       "      <th>face_x</th>\n",
       "      <th>face_y</th>\n",
       "      <th>face_width</th>\n",
       "      <th>face_height</th>\n",
       "      <th>facial_landmarks</th>\n",
       "      <th>expression</th>\n",
       "      <th>valence</th>\n",
       "      <th>arousal</th>\n",
       "    </tr>\n",
       "  </thead>\n",
       "  <tbody>\n",
       "    <tr>\n",
       "      <th>0</th>\n",
       "      <td>0</td>\n",
       "      <td>174/37e473dbcd0153a8fe9c7e3b97e0d31b3d764b7920...</td>\n",
       "      <td>24</td>\n",
       "      <td>24</td>\n",
       "      <td>1033</td>\n",
       "      <td>1033</td>\n",
       "      <td>124.72;548.25;124.16;653.51;143.2;760.16;168.1...</td>\n",
       "      <td>2</td>\n",
       "      <td>-0.737578</td>\n",
       "      <td>-0.232919</td>\n",
       "    </tr>\n",
       "    <tr>\n",
       "      <th>1</th>\n",
       "      <td>1</td>\n",
       "      <td>911/3027321da92465f3a88b643628383ec54f18efc007...</td>\n",
       "      <td>23</td>\n",
       "      <td>23</td>\n",
       "      <td>158</td>\n",
       "      <td>158</td>\n",
       "      <td>23.82;75.34;22.98;94.47;24.8;115.29;30.06;132....</td>\n",
       "      <td>4</td>\n",
       "      <td>-0.155763</td>\n",
       "      <td>0.463581</td>\n",
       "    </tr>\n",
       "    <tr>\n",
       "      <th>2</th>\n",
       "      <td>2</td>\n",
       "      <td>647/584d7f29d5be7e10684a1e46956dd11b7a1d6665af...</td>\n",
       "      <td>38</td>\n",
       "      <td>38</td>\n",
       "      <td>258</td>\n",
       "      <td>258</td>\n",
       "      <td>57.02;142.58;57.43;171.14;62.94;200.57;70.69;2...</td>\n",
       "      <td>0</td>\n",
       "      <td>-0.047619</td>\n",
       "      <td>-0.031746</td>\n",
       "    </tr>\n",
       "    <tr>\n",
       "      <th>3</th>\n",
       "      <td>3</td>\n",
       "      <td>894/98034ce243cac89f2f63addd19c4736fa70bded976...</td>\n",
       "      <td>45</td>\n",
       "      <td>45</td>\n",
       "      <td>304</td>\n",
       "      <td>304</td>\n",
       "      <td>50.97;174.93;51.32;208.34;54.79;244.46;64.16;2...</td>\n",
       "      <td>1</td>\n",
       "      <td>0.831821</td>\n",
       "      <td>0.123153</td>\n",
       "    </tr>\n",
       "    <tr>\n",
       "      <th>4</th>\n",
       "      <td>4</td>\n",
       "      <td>738/4976968eaf6bfc261f1f05df9a9693cd98e74ae0b5...</td>\n",
       "      <td>64</td>\n",
       "      <td>64</td>\n",
       "      <td>429</td>\n",
       "      <td>429</td>\n",
       "      <td>105.85;256.65;107.79;301.82;116.3;343.56;129.4...</td>\n",
       "      <td>1</td>\n",
       "      <td>0.595238</td>\n",
       "      <td>-0.047447</td>\n",
       "    </tr>\n",
       "  </tbody>\n",
       "</table>\n",
       "</div>"
      ],
      "text/plain": [
       "   Unnamed: 0                              subDirectory_filePath  face_x  \\\n",
       "0           0  174/37e473dbcd0153a8fe9c7e3b97e0d31b3d764b7920...      24   \n",
       "1           1  911/3027321da92465f3a88b643628383ec54f18efc007...      23   \n",
       "2           2  647/584d7f29d5be7e10684a1e46956dd11b7a1d6665af...      38   \n",
       "3           3  894/98034ce243cac89f2f63addd19c4736fa70bded976...      45   \n",
       "4           4  738/4976968eaf6bfc261f1f05df9a9693cd98e74ae0b5...      64   \n",
       "\n",
       "   face_y  face_width  face_height  \\\n",
       "0      24        1033         1033   \n",
       "1      23         158          158   \n",
       "2      38         258          258   \n",
       "3      45         304          304   \n",
       "4      64         429          429   \n",
       "\n",
       "                                    facial_landmarks  expression   valence  \\\n",
       "0  124.72;548.25;124.16;653.51;143.2;760.16;168.1...           2 -0.737578   \n",
       "1  23.82;75.34;22.98;94.47;24.8;115.29;30.06;132....           4 -0.155763   \n",
       "2  57.02;142.58;57.43;171.14;62.94;200.57;70.69;2...           0 -0.047619   \n",
       "3  50.97;174.93;51.32;208.34;54.79;244.46;64.16;2...           1  0.831821   \n",
       "4  105.85;256.65;107.79;301.82;116.3;343.56;129.4...           1  0.595238   \n",
       "\n",
       "    arousal  \n",
       "0 -0.232919  \n",
       "1  0.463581  \n",
       "2 -0.031746  \n",
       "3  0.123153  \n",
       "4 -0.047447  "
      ]
     },
     "execution_count": 12,
     "metadata": {},
     "output_type": "execute_result"
    }
   ],
   "source": [
    "final_train_set.head()"
   ]
  },
  {
   "cell_type": "code",
   "execution_count": 13,
   "metadata": {
    "collapsed": false,
    "deletable": true,
    "editable": true
   },
   "outputs": [
    {
     "data": {
      "text/html": [
       "<div>\n",
       "<style>\n",
       "    .dataframe thead tr:only-child th {\n",
       "        text-align: right;\n",
       "    }\n",
       "\n",
       "    .dataframe thead th {\n",
       "        text-align: left;\n",
       "    }\n",
       "\n",
       "    .dataframe tbody tr th {\n",
       "        vertical-align: top;\n",
       "    }\n",
       "</style>\n",
       "<table border=\"1\" class=\"dataframe\">\n",
       "  <thead>\n",
       "    <tr style=\"text-align: right;\">\n",
       "      <th></th>\n",
       "      <th>Unnamed: 0</th>\n",
       "      <th>subDirectory_filePath</th>\n",
       "      <th>face_x</th>\n",
       "      <th>face_y</th>\n",
       "      <th>face_width</th>\n",
       "      <th>face_height</th>\n",
       "      <th>facial_landmarks</th>\n",
       "      <th>expression</th>\n",
       "      <th>valence</th>\n",
       "      <th>arousal</th>\n",
       "      <th>image_location</th>\n",
       "    </tr>\n",
       "  </thead>\n",
       "  <tbody>\n",
       "    <tr>\n",
       "      <th>0</th>\n",
       "      <td>0</td>\n",
       "      <td>852/08c9144760cba4448c3f8fbf63d3b72bdf0d34d67a...</td>\n",
       "      <td>57</td>\n",
       "      <td>57</td>\n",
       "      <td>382</td>\n",
       "      <td>382</td>\n",
       "      <td>100.61;173.62;99.72;218.65;102.4;264.92;106.5;...</td>\n",
       "      <td>1</td>\n",
       "      <td>0.928571</td>\n",
       "      <td>0.063492</td>\n",
       "      <td>None</td>\n",
       "    </tr>\n",
       "    <tr>\n",
       "      <th>1</th>\n",
       "      <td>1</td>\n",
       "      <td>708/0ce29cf436b680c66063730a4f5e7f12a24006358f...</td>\n",
       "      <td>56</td>\n",
       "      <td>56</td>\n",
       "      <td>374</td>\n",
       "      <td>374</td>\n",
       "      <td>67.9;176.66;67.16;217.45;67.85;256.82;76.21;29...</td>\n",
       "      <td>2</td>\n",
       "      <td>-0.482315</td>\n",
       "      <td>-0.340683</td>\n",
       "      <td>None</td>\n",
       "    </tr>\n",
       "    <tr>\n",
       "      <th>2</th>\n",
       "      <td>2</td>\n",
       "      <td>736/c13804be67c7073af1f9ba47ab17fd22fa89fe321c...</td>\n",
       "      <td>36</td>\n",
       "      <td>36</td>\n",
       "      <td>302</td>\n",
       "      <td>302</td>\n",
       "      <td>61.18;144.54;60.31;180.53;63.2;216.57;66.21;25...</td>\n",
       "      <td>1</td>\n",
       "      <td>0.349206</td>\n",
       "      <td>-0.031746</td>\n",
       "      <td>None</td>\n",
       "    </tr>\n",
       "    <tr>\n",
       "      <th>3</th>\n",
       "      <td>3</td>\n",
       "      <td>953/a6fdc6739613a64e6405a5b4a7da2310f9f76c9965...</td>\n",
       "      <td>10</td>\n",
       "      <td>10</td>\n",
       "      <td>193</td>\n",
       "      <td>193</td>\n",
       "      <td>6.03;87.72;8.36;110.69;11.28;134.42;16.51;156....</td>\n",
       "      <td>6</td>\n",
       "      <td>-0.125086</td>\n",
       "      <td>0.336439</td>\n",
       "      <td>None</td>\n",
       "    </tr>\n",
       "    <tr>\n",
       "      <th>4</th>\n",
       "      <td>4</td>\n",
       "      <td>347/15f5f053411bb18750b281a68cd4be4b1e13cc4cf4...</td>\n",
       "      <td>110</td>\n",
       "      <td>110</td>\n",
       "      <td>734</td>\n",
       "      <td>734</td>\n",
       "      <td>169.52;420.41;186.49;499.85;208.17;575.67;232....</td>\n",
       "      <td>6</td>\n",
       "      <td>-0.133713</td>\n",
       "      <td>0.353692</td>\n",
       "      <td>None</td>\n",
       "    </tr>\n",
       "  </tbody>\n",
       "</table>\n",
       "</div>"
      ],
      "text/plain": [
       "   Unnamed: 0                              subDirectory_filePath  face_x  \\\n",
       "0           0  852/08c9144760cba4448c3f8fbf63d3b72bdf0d34d67a...      57   \n",
       "1           1  708/0ce29cf436b680c66063730a4f5e7f12a24006358f...      56   \n",
       "2           2  736/c13804be67c7073af1f9ba47ab17fd22fa89fe321c...      36   \n",
       "3           3  953/a6fdc6739613a64e6405a5b4a7da2310f9f76c9965...      10   \n",
       "4           4  347/15f5f053411bb18750b281a68cd4be4b1e13cc4cf4...     110   \n",
       "\n",
       "   face_y  face_width  face_height  \\\n",
       "0      57         382          382   \n",
       "1      56         374          374   \n",
       "2      36         302          302   \n",
       "3      10         193          193   \n",
       "4     110         734          734   \n",
       "\n",
       "                                    facial_landmarks  expression   valence  \\\n",
       "0  100.61;173.62;99.72;218.65;102.4;264.92;106.5;...           1  0.928571   \n",
       "1  67.9;176.66;67.16;217.45;67.85;256.82;76.21;29...           2 -0.482315   \n",
       "2  61.18;144.54;60.31;180.53;63.2;216.57;66.21;25...           1  0.349206   \n",
       "3  6.03;87.72;8.36;110.69;11.28;134.42;16.51;156....           6 -0.125086   \n",
       "4  169.52;420.41;186.49;499.85;208.17;575.67;232....           6 -0.133713   \n",
       "\n",
       "    arousal image_location  \n",
       "0  0.063492           None  \n",
       "1 -0.340683           None  \n",
       "2 -0.031746           None  \n",
       "3  0.336439           None  \n",
       "4  0.353692           None  "
      ]
     },
     "execution_count": 13,
     "metadata": {},
     "output_type": "execute_result"
    }
   ],
   "source": [
    "final_test_set.head()"
   ]
  },
  {
   "cell_type": "code",
   "execution_count": 2,
   "metadata": {
    "collapsed": false,
    "deletable": true,
    "editable": true
   },
   "outputs": [],
   "source": [
    "import cv2\n",
    "import matplotlib.pyplot as plt\n",
    "from sys import getsizeof\n",
    "import gc\n",
    "%matplotlib inline"
   ]
  },
  {
   "cell_type": "code",
   "execution_count": 157,
   "metadata": {
    "collapsed": false,
    "deletable": true,
    "editable": true
   },
   "outputs": [],
   "source": [
    "new_df = validation_data[0:5][:]"
   ]
  },
  {
   "cell_type": "code",
   "execution_count": 166,
   "metadata": {
    "collapsed": false,
    "deletable": true,
    "editable": true
   },
   "outputs": [],
   "source": [
    "new_df.to_csv('example.csv')"
   ]
  },
  {
   "cell_type": "code",
   "execution_count": 15,
   "metadata": {
    "collapsed": false,
    "deletable": true,
    "editable": true
   },
   "outputs": [],
   "source": [
    "#validation_data[\"pixels\"] = validation_data.apply(generate_gray_pixels, axis = 1)\n",
    "final_train_set[\"image_location\"] = final_train_set.apply(lambda row: generate_gray_pixels(row['subDirectory_filePath'],row['face_x'],row['face_y'],row['face_width'],row['face_height'],row['expression']), axis = 1)"
   ]
  },
  {
   "cell_type": "code",
   "execution_count": 58,
   "metadata": {
    "collapsed": false,
    "deletable": true,
    "editable": true
   },
   "outputs": [
    {
     "data": {
      "text/plain": [
       "<matplotlib.image.AxesImage at 0x27bd0fcf160>"
      ]
     },
     "execution_count": 58,
     "metadata": {},
     "output_type": "execute_result"
    },
    {
     "data": {
      "image/png": "[encoded data removed]",
      "text/plain": [
       "<matplotlib.figure.Figure at 0x27bd0debd30>"
      ]
     },
     "metadata": {},
     "output_type": "display_data"
    }
   ],
   "source": [
    "fig = plt.figure(figsize=(6,6))\n",
    "ax1 = fig.add_subplot(111)\n",
    "ax1.set_xticks([])\n",
    "ax1.set_yticks([])\n",
    "ax1.set_title(\"image\")\n",
    "ax1.imshow(c, cmap='gray')"
   ]
  },
  {
   "cell_type": "code",
   "execution_count": 66,
   "metadata": {
    "collapsed": false,
    "deletable": true,
    "editable": true
   },
   "outputs": [
    {
     "data": {
      "text/plain": [
       "<matplotlib.image.AxesImage at 0x1a8b92a9080>"
      ]
     },
     "execution_count": 66,
     "metadata": {},
     "output_type": "execute_result"
    },
    {
     "data": {
      "image/png": "[encoded data removed]",
      "text/plain": [
       "<matplotlib.figure.Figure at 0x1a8b8dbebe0>"
      ]
     },
     "metadata": {},
     "output_type": "display_data"
    }
   ],
   "source": [
    "fig = plt.figure(figsize=(6,6))\n",
    "ax1 = fig.add_subplot(111)\n",
    "ax1.set_xticks([])\n",
    "ax1.set_yticks([])\n",
    "ax1.set_title(\"image\")\n",
    "ax1.imshow(new_image, cmap='gray')"
   ]
  },
  {
   "cell_type": "code",
   "execution_count": 9,
   "metadata": {
    "collapsed": false,
    "deletable": true,
    "editable": true
   },
   "outputs": [],
   "source": [
    "#code to generate downsampled training set in which each category has 3000 images.\n",
    "train_0 = pd.read_csv('train_0.csv')"
   ]
  },
  {
   "cell_type": "code",
   "execution_count": 10,
   "metadata": {
    "collapsed": false,
    "deletable": true,
    "editable": true
   },
   "outputs": [],
   "source": [
    "train_0 = train_0[0:3000]"
   ]
  },
  {
   "cell_type": "code",
   "execution_count": 20,
   "metadata": {
    "collapsed": false,
    "deletable": true,
    "editable": true
   },
   "outputs": [],
   "source": [
    "train_0 = train_0.drop(['face_x','face_y','face_width','face_height','facial_landmarks'], axis=1)"
   ]
  },
  {
   "cell_type": "code",
   "execution_count": 22,
   "metadata": {
    "collapsed": false,
    "deletable": true,
    "editable": true
   },
   "outputs": [],
   "source": [
    "train_0 = train_0.drop('Unnamed: 0', axis = 1)"
   ]
  },
  {
   "cell_type": "code",
   "execution_count": 19,
   "metadata": {
    "collapsed": true,
    "deletable": true,
    "editable": true
   },
   "outputs": [],
   "source": [
    "def generate_color_pixels(path, face_x, face_y, face_width, face_height,expression):\n",
    "    orignal_path = path\n",
    "    folder, image_name = path.split(\"/\")\n",
    "    path = \"D:\\\\Documents\\\\ML Projects\\\\Datasets\\\\AMFED\\\\Manually_Annotated_Images\\\\\"+folder+\"\\\\\"+image_name\n",
    "    image_name = orignal_path.replace(\"/\",\"_\")\n",
    "    color_image = cv2.imread(path)\n",
    "    color_image = color_image[face_y:face_y+face_height, face_x:face_x+face_width]\n",
    "    if color_image.shape[0] > 150:\n",
    "        color_image = cv2.resize(color_image, dsize=(200,200),interpolation=cv2.INTER_AREA)\n",
    "    elif color_image.shape[0] < 150:\n",
    "        color_image = cv2.resize(color_image, dsize=(200,200),interpolation=cv2.INTER_CUBIC)\n",
    "    name = \"train_images_cropped_downsampled/\"+str(expression)+\"/\"+image_name\n",
    "    cv2.imwrite(name,color_image)"
   ]
  },
  {
   "cell_type": "code",
   "execution_count": 9,
   "metadata": {
    "collapsed": false,
    "deletable": true,
    "editable": true
   },
   "outputs": [],
   "source": [
    "train_0 = pd.read_csv('train_0.csv')\n",
    "train_0 = train_0.drop(['Unnamed: 0','facial_landmarks'], axis=1)\n",
    "train_0 = train_0[0:3000]\n",
    "\n",
    "train_1 = pd.read_csv('train_1.csv')\n",
    "train_1 = train_1.drop(['Unnamed: 0','facial_landmarks'], axis=1)\n",
    "train_1 = train_1[0:3000]\n",
    "\n",
    "train_2 = pd.read_csv('train_2.csv')\n",
    "train_2 = train_2.drop(['Unnamed: 0','facial_landmarks'], axis=1)\n",
    "train_2 = train_2[0:3000]\n",
    "\n",
    "train_3 = pd.read_csv('train_3.csv')\n",
    "train_3 = train_3.drop(['Unnamed: 0','facial_landmarks'], axis=1)\n",
    "train_3 = train_3[0:3000]\n",
    "\n",
    "train_4 = pd.read_csv('train_4.csv')\n",
    "train_4 = train_4.drop(['Unnamed: 0','facial_landmarks'], axis=1)\n",
    "train_4 = train_4[0:3000]\n",
    "\n",
    "train_5 = pd.read_csv('train_5.csv')\n",
    "train_5 = train_5.drop(['Unnamed: 0','facial_landmarks'], axis=1)\n",
    "train_5 = train_5[0:3000]\n",
    "\n",
    "train_6 = pd.read_csv('train_6.csv')\n",
    "train_6 = train_6.drop(['Unnamed: 0','facial_landmarks'], axis=1)\n",
    "train_6 = train_6[0:3000]\n",
    "\n",
    "train_7 = pd.read_csv('train_7.csv')\n",
    "train_7 = train_7.drop(['Unnamed: 0','facial_landmarks'], axis=1)\n",
    "train_7 = train_7[0:3000]"
   ]
  },
  {
   "cell_type": "code",
   "execution_count": 21,
   "metadata": {
    "collapsed": false,
    "deletable": true,
    "editable": true
   },
   "outputs": [
    {
     "data": {
      "text/html": [
       "<div>\n",
       "<style>\n",
       "    .dataframe thead tr:only-child th {\n",
       "        text-align: right;\n",
       "    }\n",
       "\n",
       "    .dataframe thead th {\n",
       "        text-align: left;\n",
       "    }\n",
       "\n",
       "    .dataframe tbody tr th {\n",
       "        vertical-align: top;\n",
       "    }\n",
       "</style>\n",
       "<table border=\"1\" class=\"dataframe\">\n",
       "  <thead>\n",
       "    <tr style=\"text-align: right;\">\n",
       "      <th></th>\n",
       "      <th>subDirectory_filePath</th>\n",
       "      <th>face_x</th>\n",
       "      <th>face_y</th>\n",
       "      <th>face_width</th>\n",
       "      <th>face_height</th>\n",
       "      <th>expression</th>\n",
       "      <th>valence</th>\n",
       "      <th>arousal</th>\n",
       "    </tr>\n",
       "  </thead>\n",
       "  <tbody>\n",
       "    <tr>\n",
       "      <th>2995</th>\n",
       "      <td>817/4bab30b737faaf08b7927f4b07600ff32d755c01b6...</td>\n",
       "      <td>43</td>\n",
       "      <td>43</td>\n",
       "      <td>289</td>\n",
       "      <td>289</td>\n",
       "      <td>7</td>\n",
       "      <td>-0.256485</td>\n",
       "      <td>0.343593</td>\n",
       "    </tr>\n",
       "    <tr>\n",
       "      <th>2996</th>\n",
       "      <td>679/e2ef095008298270217818dd9ff33f82c52134b552...</td>\n",
       "      <td>33</td>\n",
       "      <td>33</td>\n",
       "      <td>231</td>\n",
       "      <td>231</td>\n",
       "      <td>7</td>\n",
       "      <td>-0.459737</td>\n",
       "      <td>0.493612</td>\n",
       "    </tr>\n",
       "    <tr>\n",
       "      <th>2997</th>\n",
       "      <td>386/b5d33fdd534e483d0a25b6fc928f1b00038eb8300b...</td>\n",
       "      <td>206</td>\n",
       "      <td>206</td>\n",
       "      <td>1378</td>\n",
       "      <td>1378</td>\n",
       "      <td>7</td>\n",
       "      <td>-0.642857</td>\n",
       "      <td>0.642857</td>\n",
       "    </tr>\n",
       "    <tr>\n",
       "      <th>2998</th>\n",
       "      <td>844/9244c4fa9aa057c81d4a74c1676e095e4075464f8c...</td>\n",
       "      <td>135</td>\n",
       "      <td>135</td>\n",
       "      <td>902</td>\n",
       "      <td>902</td>\n",
       "      <td>7</td>\n",
       "      <td>-0.634921</td>\n",
       "      <td>0.634921</td>\n",
       "    </tr>\n",
       "    <tr>\n",
       "      <th>2999</th>\n",
       "      <td>436/995d1740573aaf3c9451efdc5e984a7187b863fea5...</td>\n",
       "      <td>88</td>\n",
       "      <td>88</td>\n",
       "      <td>590</td>\n",
       "      <td>590</td>\n",
       "      <td>7</td>\n",
       "      <td>-0.425861</td>\n",
       "      <td>0.459737</td>\n",
       "    </tr>\n",
       "  </tbody>\n",
       "</table>\n",
       "</div>"
      ],
      "text/plain": [
       "                                  subDirectory_filePath  face_x  face_y  \\\n",
       "2995  817/4bab30b737faaf08b7927f4b07600ff32d755c01b6...      43      43   \n",
       "2996  679/e2ef095008298270217818dd9ff33f82c52134b552...      33      33   \n",
       "2997  386/b5d33fdd534e483d0a25b6fc928f1b00038eb8300b...     206     206   \n",
       "2998  844/9244c4fa9aa057c81d4a74c1676e095e4075464f8c...     135     135   \n",
       "2999  436/995d1740573aaf3c9451efdc5e984a7187b863fea5...      88      88   \n",
       "\n",
       "      face_width  face_height  expression   valence   arousal  \n",
       "2995         289          289           7 -0.256485  0.343593  \n",
       "2996         231          231           7 -0.459737  0.493612  \n",
       "2997        1378         1378           7 -0.642857  0.642857  \n",
       "2998         902          902           7 -0.634921  0.634921  \n",
       "2999         590          590           7 -0.425861  0.459737  "
      ]
     },
     "execution_count": 21,
     "metadata": {},
     "output_type": "execute_result"
    }
   ],
   "source": [
    "train_7.tail()"
   ]
  },
  {
   "cell_type": "code",
   "execution_count": 17,
   "metadata": {
    "collapsed": false,
    "deletable": true,
    "editable": true
   },
   "outputs": [],
   "source": [
    "#now merge all the training set of 3000 images of each category into one dataframe and randomize.\n",
    "down_sampled_train_set = pd.concat([train_0,train_1,train_2,train_3,train_4,train_5,train_6,train_7])"
   ]
  },
  {
   "cell_type": "code",
   "execution_count": 23,
   "metadata": {
    "collapsed": false,
    "deletable": true,
    "editable": true
   },
   "outputs": [
    {
     "data": {
      "text/html": [
       "<div>\n",
       "<style>\n",
       "    .dataframe thead tr:only-child th {\n",
       "        text-align: right;\n",
       "    }\n",
       "\n",
       "    .dataframe thead th {\n",
       "        text-align: left;\n",
       "    }\n",
       "\n",
       "    .dataframe tbody tr th {\n",
       "        vertical-align: top;\n",
       "    }\n",
       "</style>\n",
       "<table border=\"1\" class=\"dataframe\">\n",
       "  <thead>\n",
       "    <tr style=\"text-align: right;\">\n",
       "      <th></th>\n",
       "      <th>subDirectory_filePath</th>\n",
       "      <th>face_x</th>\n",
       "      <th>face_y</th>\n",
       "      <th>face_width</th>\n",
       "      <th>face_height</th>\n",
       "      <th>expression</th>\n",
       "      <th>valence</th>\n",
       "      <th>arousal</th>\n",
       "    </tr>\n",
       "  </thead>\n",
       "  <tbody>\n",
       "    <tr>\n",
       "      <th>23995</th>\n",
       "      <td>1063/d58cf2293b522a4beddcf27d4ca9f9be79ce330ea...</td>\n",
       "      <td>35</td>\n",
       "      <td>35</td>\n",
       "      <td>236</td>\n",
       "      <td>236</td>\n",
       "      <td>7</td>\n",
       "      <td>0.179055</td>\n",
       "      <td>0.512969</td>\n",
       "    </tr>\n",
       "    <tr>\n",
       "      <th>23996</th>\n",
       "      <td>486/a645b40e96c968b25b64f8e78527467606b864b131...</td>\n",
       "      <td>49</td>\n",
       "      <td>49</td>\n",
       "      <td>328</td>\n",
       "      <td>328</td>\n",
       "      <td>4</td>\n",
       "      <td>-0.221484</td>\n",
       "      <td>0.878385</td>\n",
       "    </tr>\n",
       "    <tr>\n",
       "      <th>23997</th>\n",
       "      <td>818/6db6901b3557332a1f9eb85df8b8b466fbe3dbd026...</td>\n",
       "      <td>54</td>\n",
       "      <td>54</td>\n",
       "      <td>709</td>\n",
       "      <td>709</td>\n",
       "      <td>7</td>\n",
       "      <td>-0.450058</td>\n",
       "      <td>0.508130</td>\n",
       "    </tr>\n",
       "    <tr>\n",
       "      <th>23998</th>\n",
       "      <td>518/7300d726be6e640199ee1dd28b89cf5ae1509ba6d9...</td>\n",
       "      <td>33</td>\n",
       "      <td>33</td>\n",
       "      <td>221</td>\n",
       "      <td>221</td>\n",
       "      <td>3</td>\n",
       "      <td>0.398486</td>\n",
       "      <td>0.542937</td>\n",
       "    </tr>\n",
       "    <tr>\n",
       "      <th>23999</th>\n",
       "      <td>436/462f67caa4e67b94179bb96c909d30e58d113d41c7...</td>\n",
       "      <td>34</td>\n",
       "      <td>34</td>\n",
       "      <td>228</td>\n",
       "      <td>228</td>\n",
       "      <td>5</td>\n",
       "      <td>-0.772131</td>\n",
       "      <td>0.519058</td>\n",
       "    </tr>\n",
       "  </tbody>\n",
       "</table>\n",
       "</div>"
      ],
      "text/plain": [
       "                                   subDirectory_filePath  face_x  face_y  \\\n",
       "23995  1063/d58cf2293b522a4beddcf27d4ca9f9be79ce330ea...      35      35   \n",
       "23996  486/a645b40e96c968b25b64f8e78527467606b864b131...      49      49   \n",
       "23997  818/6db6901b3557332a1f9eb85df8b8b466fbe3dbd026...      54      54   \n",
       "23998  518/7300d726be6e640199ee1dd28b89cf5ae1509ba6d9...      33      33   \n",
       "23999  436/462f67caa4e67b94179bb96c909d30e58d113d41c7...      34      34   \n",
       "\n",
       "       face_width  face_height  expression   valence   arousal  \n",
       "23995         236          236           7  0.179055  0.512969  \n",
       "23996         328          328           4 -0.221484  0.878385  \n",
       "23997         709          709           7 -0.450058  0.508130  \n",
       "23998         221          221           3  0.398486  0.542937  \n",
       "23999         228          228           5 -0.772131  0.519058  "
      ]
     },
     "execution_count": 23,
     "metadata": {},
     "output_type": "execute_result"
    }
   ],
   "source": [
    "down_sampled_train_set.tail()"
   ]
  },
  {
   "cell_type": "code",
   "execution_count": 22,
   "metadata": {
    "collapsed": false,
    "deletable": true,
    "editable": true
   },
   "outputs": [],
   "source": [
    "down_sampled_train_set = down_sampled_train_set.sample(frac=1).reset_index(drop=True)"
   ]
  },
  {
   "cell_type": "code",
   "execution_count": 25,
   "metadata": {
    "collapsed": false,
    "deletable": true,
    "editable": true
   },
   "outputs": [],
   "source": [
    "down_sampled_train_set.to_csv(\"D:\\\\Documents\\\\ML Projects\\\\Datasets\\\\AMFED\\\\down_sampled_train_set.csv\")"
   ]
  },
  {
   "cell_type": "code",
   "execution_count": 4,
   "metadata": {
    "collapsed": false,
    "deletable": true,
    "editable": true
   },
   "outputs": [],
   "source": [
    "down_sampled_train_set = pd.read_csv(\"down_sampled_train_set.csv\")"
   ]
  },
  {
   "cell_type": "code",
   "execution_count": 5,
   "metadata": {
    "collapsed": false,
    "deletable": true,
    "editable": true
   },
   "outputs": [],
   "source": [
    "down_sampled_train_set = down_sampled_train_set.drop('Unnamed: 0', axis = 1)"
   ]
  },
  {
   "cell_type": "code",
   "execution_count": 22,
   "metadata": {
    "collapsed": false,
    "deletable": true,
    "editable": true
   },
   "outputs": [
    {
     "data": {
      "text/html": [
       "<div>\n",
       "<style>\n",
       "    .dataframe thead tr:only-child th {\n",
       "        text-align: right;\n",
       "    }\n",
       "\n",
       "    .dataframe thead th {\n",
       "        text-align: left;\n",
       "    }\n",
       "\n",
       "    .dataframe tbody tr th {\n",
       "        vertical-align: top;\n",
       "    }\n",
       "</style>\n",
       "<table border=\"1\" class=\"dataframe\">\n",
       "  <thead>\n",
       "    <tr style=\"text-align: right;\">\n",
       "      <th></th>\n",
       "      <th>subDirectory_filePath</th>\n",
       "      <th>face_x</th>\n",
       "      <th>face_y</th>\n",
       "      <th>face_width</th>\n",
       "      <th>face_height</th>\n",
       "      <th>expression</th>\n",
       "      <th>valence</th>\n",
       "      <th>arousal</th>\n",
       "    </tr>\n",
       "  </thead>\n",
       "  <tbody>\n",
       "    <tr>\n",
       "      <th>23995</th>\n",
       "      <td>1063/d58cf2293b522a4beddcf27d4ca9f9be79ce330ea...</td>\n",
       "      <td>35</td>\n",
       "      <td>35</td>\n",
       "      <td>236</td>\n",
       "      <td>236</td>\n",
       "      <td>7</td>\n",
       "      <td>0.179055</td>\n",
       "      <td>0.512969</td>\n",
       "    </tr>\n",
       "    <tr>\n",
       "      <th>23996</th>\n",
       "      <td>486/a645b40e96c968b25b64f8e78527467606b864b131...</td>\n",
       "      <td>49</td>\n",
       "      <td>49</td>\n",
       "      <td>328</td>\n",
       "      <td>328</td>\n",
       "      <td>4</td>\n",
       "      <td>-0.221484</td>\n",
       "      <td>0.878385</td>\n",
       "    </tr>\n",
       "    <tr>\n",
       "      <th>23997</th>\n",
       "      <td>818/6db6901b3557332a1f9eb85df8b8b466fbe3dbd026...</td>\n",
       "      <td>54</td>\n",
       "      <td>54</td>\n",
       "      <td>709</td>\n",
       "      <td>709</td>\n",
       "      <td>7</td>\n",
       "      <td>-0.450058</td>\n",
       "      <td>0.508130</td>\n",
       "    </tr>\n",
       "    <tr>\n",
       "      <th>23998</th>\n",
       "      <td>518/7300d726be6e640199ee1dd28b89cf5ae1509ba6d9...</td>\n",
       "      <td>33</td>\n",
       "      <td>33</td>\n",
       "      <td>221</td>\n",
       "      <td>221</td>\n",
       "      <td>3</td>\n",
       "      <td>0.398486</td>\n",
       "      <td>0.542937</td>\n",
       "    </tr>\n",
       "    <tr>\n",
       "      <th>23999</th>\n",
       "      <td>436/462f67caa4e67b94179bb96c909d30e58d113d41c7...</td>\n",
       "      <td>34</td>\n",
       "      <td>34</td>\n",
       "      <td>228</td>\n",
       "      <td>228</td>\n",
       "      <td>5</td>\n",
       "      <td>-0.772131</td>\n",
       "      <td>0.519058</td>\n",
       "    </tr>\n",
       "  </tbody>\n",
       "</table>\n",
       "</div>"
      ],
      "text/plain": [
       "                                   subDirectory_filePath  face_x  face_y  \\\n",
       "23995  1063/d58cf2293b522a4beddcf27d4ca9f9be79ce330ea...      35      35   \n",
       "23996  486/a645b40e96c968b25b64f8e78527467606b864b131...      49      49   \n",
       "23997  818/6db6901b3557332a1f9eb85df8b8b466fbe3dbd026...      54      54   \n",
       "23998  518/7300d726be6e640199ee1dd28b89cf5ae1509ba6d9...      33      33   \n",
       "23999  436/462f67caa4e67b94179bb96c909d30e58d113d41c7...      34      34   \n",
       "\n",
       "       face_width  face_height  expression   valence   arousal  \n",
       "23995         236          236           7  0.179055  0.512969  \n",
       "23996         328          328           4 -0.221484  0.878385  \n",
       "23997         709          709           7 -0.450058  0.508130  \n",
       "23998         221          221           3  0.398486  0.542937  \n",
       "23999         228          228           5 -0.772131  0.519058  "
      ]
     },
     "execution_count": 22,
     "metadata": {},
     "output_type": "execute_result"
    }
   ],
   "source": [
    "down_sampled_train_set.tail()"
   ]
  },
  {
   "cell_type": "code",
   "execution_count": 23,
   "metadata": {
    "collapsed": false,
    "deletable": true,
    "editable": true
   },
   "outputs": [],
   "source": [
    "down_sampled_train_set[\"image_location\"] = down_sampled_train_set.apply(lambda row: generate_color_pixels(row['subDirectory_filePath'],row['face_x'],row['face_y'],row['face_width'],row['face_height'],row['expression']), axis = 1)"
   ]
  },
  {
   "cell_type": "code",
   "execution_count": 18,
   "metadata": {
    "collapsed": false,
    "deletable": true,
    "editable": true
   },
   "outputs": [],
   "source": [
    "validation_full = pd.read_csv('validation.csv')\n",
    "validation_full = validation_full.drop('facial_landmarks',axis=1)"
   ]
  },
  {
   "cell_type": "code",
   "execution_count": 19,
   "metadata": {
    "collapsed": false,
    "deletable": true,
    "editable": true
   },
   "outputs": [],
   "source": [
    "validation_0 = validation_full[validation_full['expression'] == 0]\n",
    "validation_1 = validation_full[validation_full['expression'] == 1]\n",
    "validation_2 = validation_full[validation_full['expression'] == 2]\n",
    "validation_3 = validation_full[validation_full['expression'] == 3]\n",
    "validation_4 = validation_full[validation_full['expression'] == 4]\n",
    "validation_5 = validation_full[validation_full['expression'] == 5]\n",
    "validation_6 = validation_full[validation_full['expression'] == 6]\n",
    "validation_7 = validation_full[validation_full['expression'] == 7]"
   ]
  },
  {
   "cell_type": "code",
   "execution_count": 27,
   "metadata": {
    "collapsed": false,
    "deletable": true,
    "editable": true
   },
   "outputs": [],
   "source": [
    "validation_0 = validation_0[0:100]\n",
    "validation_1 = validation_1[0:100]\n",
    "validation_2 = validation_2[0:100]\n",
    "validation_3 = validation_3[0:100]\n",
    "validation_4 = validation_4[0:100]\n",
    "validation_5 = validation_5[0:100]\n",
    "validation_6 = validation_6[0:100]\n",
    "validation_7 = validation_7[0:100]"
   ]
  },
  {
   "cell_type": "code",
   "execution_count": 34,
   "metadata": {
    "collapsed": false,
    "deletable": true,
    "editable": true
   },
   "outputs": [],
   "source": [
    "down_sampled_validation_set = pd.concat([validation_0,validation_1,validation_2,validation_3,validation_4,validation_5,validation_6,validation_7])"
   ]
  },
  {
   "cell_type": "code",
   "execution_count": 39,
   "metadata": {
    "collapsed": false,
    "deletable": true,
    "editable": true
   },
   "outputs": [],
   "source": [
    "down_sampled_validation_set.to_csv('down_sampled_validation_set.csv')"
   ]
  },
  {
   "cell_type": "code",
   "execution_count": 41,
   "metadata": {
    "collapsed": false,
    "deletable": true,
    "editable": true
   },
   "outputs": [],
   "source": [
    "down_sampled_validation_set = down_sampled_validation_set.sample(frac=1).reset_index(drop=True)"
   ]
  },
  {
   "cell_type": "code",
   "execution_count": 43,
   "metadata": {
    "collapsed": false,
    "deletable": true,
    "editable": true
   },
   "outputs": [],
   "source": [
    "down_sampled_validation_set.to_csv('down_sampled_validation_set.csv')"
   ]
  },
  {
   "cell_type": "code",
   "execution_count": 11,
   "metadata": {
    "collapsed": true
   },
   "outputs": [],
   "source": [
    "down_sampled_validation_set = pd.read_csv('down_sampled_validation_set.csv')"
   ]
  },
  {
   "cell_type": "code",
   "execution_count": 14,
   "metadata": {
    "collapsed": false
   },
   "outputs": [],
   "source": [
    "down_sampled_validation_set = down_sampled_validation_set.drop('Unnamed: 0',axis=1)"
   ]
  },
  {
   "cell_type": "code",
   "execution_count": 16,
   "metadata": {
    "collapsed": false
   },
   "outputs": [
    {
     "name": "stdout",
     "output_type": "stream",
     "text": [
      "<class 'pandas.core.frame.DataFrame'>\n",
      "RangeIndex: 800 entries, 0 to 799\n",
      "Data columns (total 8 columns):\n",
      "subDirectory_filePath    800 non-null object\n",
      "face_x                   800 non-null int64\n",
      "face_y                   800 non-null int64\n",
      "face_width               800 non-null int64\n",
      "face_height              800 non-null int64\n",
      "expression               800 non-null int64\n",
      "valence                  800 non-null float64\n",
      "arousal                  800 non-null float64\n",
      "dtypes: float64(2), int64(5), object(1)\n",
      "memory usage: 50.1+ KB\n"
     ]
    }
   ],
   "source": [
    "down_sampled_validation_set.info()"
   ]
  },
  {
   "cell_type": "code",
   "execution_count": 17,
   "metadata": {
    "collapsed": true,
    "deletable": true,
    "editable": true
   },
   "outputs": [],
   "source": [
    "down_sampled_validation_set[\"image_location\"] = down_sampled_validation_set.apply(lambda row: generate_color_pixels(row['subDirectory_filePath'],row['face_x'],row['face_y'],row['face_width'],row['face_height'],row['expression']), axis = 1)"
   ]
  },
  {
   "cell_type": "code",
   "execution_count": null,
   "metadata": {
    "collapsed": true,
    "deletable": true,
    "editable": true
   },
   "outputs": [],
   "source": [
    "down_sampled_train_set = pd.read_csv()"
   ]
  },
  {
   "cell_type": "code",
   "execution_count": 12,
   "metadata": {
    "collapsed": true,
    "deletable": true,
    "editable": true
   },
   "outputs": [],
   "source": [
    "temp_df = down_sampled_train_set[0:5]"
   ]
  },
  {
   "cell_type": "code",
   "execution_count": 33,
   "metadata": {
    "collapsed": false,
    "deletable": true,
    "editable": true
   },
   "outputs": [
    {
     "data": {
      "text/html": [
       "<div>\n",
       "<style>\n",
       "    .dataframe thead tr:only-child th {\n",
       "        text-align: right;\n",
       "    }\n",
       "\n",
       "    .dataframe thead th {\n",
       "        text-align: left;\n",
       "    }\n",
       "\n",
       "    .dataframe tbody tr th {\n",
       "        vertical-align: top;\n",
       "    }\n",
       "</style>\n",
       "<table border=\"1\" class=\"dataframe\">\n",
       "  <thead>\n",
       "    <tr style=\"text-align: right;\">\n",
       "      <th></th>\n",
       "      <th>subDirectory_filePath</th>\n",
       "      <th>face_x</th>\n",
       "      <th>face_y</th>\n",
       "      <th>face_width</th>\n",
       "      <th>face_height</th>\n",
       "      <th>expression</th>\n",
       "      <th>valence</th>\n",
       "      <th>arousal</th>\n",
       "      <th>image_location</th>\n",
       "    </tr>\n",
       "  </thead>\n",
       "  <tbody>\n",
       "    <tr>\n",
       "      <th>0</th>\n",
       "      <td>420/c37646f9c1f5d35552a9f8514fe1a34afab26ab5ce...</td>\n",
       "      <td>97</td>\n",
       "      <td>97</td>\n",
       "      <td>648</td>\n",
       "      <td>648</td>\n",
       "      <td>3</td>\n",
       "      <td>0.546845</td>\n",
       "      <td>0.803329</td>\n",
       "      <td>None</td>\n",
       "    </tr>\n",
       "    <tr>\n",
       "      <th>1</th>\n",
       "      <td>431/2b09fe93aea2833995a58e62669db92ee924a8da27...</td>\n",
       "      <td>23</td>\n",
       "      <td>23</td>\n",
       "      <td>158</td>\n",
       "      <td>158</td>\n",
       "      <td>4</td>\n",
       "      <td>-0.103175</td>\n",
       "      <td>0.619048</td>\n",
       "      <td>None</td>\n",
       "    </tr>\n",
       "    <tr>\n",
       "      <th>2</th>\n",
       "      <td>105/9077544f3d85a1a2e10fe0ba60517574a680d5f8f5...</td>\n",
       "      <td>21</td>\n",
       "      <td>21</td>\n",
       "      <td>144</td>\n",
       "      <td>144</td>\n",
       "      <td>3</td>\n",
       "      <td>0.343694</td>\n",
       "      <td>0.592748</td>\n",
       "      <td>None</td>\n",
       "    </tr>\n",
       "    <tr>\n",
       "      <th>3</th>\n",
       "      <td>657/b609bd2a5f14f55c585ccb34e3ef5c59f92a7c8fa8...</td>\n",
       "      <td>24</td>\n",
       "      <td>24</td>\n",
       "      <td>191</td>\n",
       "      <td>191</td>\n",
       "      <td>5</td>\n",
       "      <td>-0.498451</td>\n",
       "      <td>0.600077</td>\n",
       "      <td>None</td>\n",
       "    </tr>\n",
       "    <tr>\n",
       "      <th>4</th>\n",
       "      <td>505/3ca39655e2938cd73ea27083b03d8abd7d0d1f6e58...</td>\n",
       "      <td>49</td>\n",
       "      <td>49</td>\n",
       "      <td>330</td>\n",
       "      <td>330</td>\n",
       "      <td>6</td>\n",
       "      <td>-0.390446</td>\n",
       "      <td>0.666054</td>\n",
       "      <td>None</td>\n",
       "    </tr>\n",
       "  </tbody>\n",
       "</table>\n",
       "</div>"
      ],
      "text/plain": [
       "                               subDirectory_filePath  face_x  face_y  \\\n",
       "0  420/c37646f9c1f5d35552a9f8514fe1a34afab26ab5ce...      97      97   \n",
       "1  431/2b09fe93aea2833995a58e62669db92ee924a8da27...      23      23   \n",
       "2  105/9077544f3d85a1a2e10fe0ba60517574a680d5f8f5...      21      21   \n",
       "3  657/b609bd2a5f14f55c585ccb34e3ef5c59f92a7c8fa8...      24      24   \n",
       "4  505/3ca39655e2938cd73ea27083b03d8abd7d0d1f6e58...      49      49   \n",
       "\n",
       "   face_width  face_height  expression   valence   arousal image_location  \n",
       "0         648          648           3  0.546845  0.803329           None  \n",
       "1         158          158           4 -0.103175  0.619048           None  \n",
       "2         144          144           3  0.343694  0.592748           None  \n",
       "3         191          191           5 -0.498451  0.600077           None  \n",
       "4         330          330           6 -0.390446  0.666054           None  "
      ]
     },
     "execution_count": 33,
     "metadata": {},
     "output_type": "execute_result"
    }
   ],
   "source": [
    "temp_df"
   ]
  },
  {
   "cell_type": "code",
   "execution_count": 31,
   "metadata": {
    "collapsed": false,
    "deletable": true,
    "editable": true
   },
   "outputs": [
    {
     "name": "stdout",
     "output_type": "stream",
     "text": [
      "420 c37646f9c1f5d35552a9f8514fe1a34afab26ab5ce95010133400c9f.jpg\n",
      "D:\\Documents\\ML Projects\\Datasets\\AMFED\\Manually_Annotated_Images\\420\\c37646f9c1f5d35552a9f8514fe1a34afab26ab5ce95010133400c9f.jpg\n",
      "train_images_cropped_downsampled/3/420_c37646f9c1f5d35552a9f8514fe1a34afab26ab5ce95010133400c9f.jpg\n",
      "431 2b09fe93aea2833995a58e62669db92ee924a8da27b0c73a71280cf9.jpg\n",
      "D:\\Documents\\ML Projects\\Datasets\\AMFED\\Manually_Annotated_Images\\431\\2b09fe93aea2833995a58e62669db92ee924a8da27b0c73a71280cf9.jpg\n",
      "train_images_cropped_downsampled/4/431_2b09fe93aea2833995a58e62669db92ee924a8da27b0c73a71280cf9.jpg\n",
      "105 9077544f3d85a1a2e10fe0ba60517574a680d5f8f586ea98a444751e.jpg\n",
      "D:\\Documents\\ML Projects\\Datasets\\AMFED\\Manually_Annotated_Images\\105\\9077544f3d85a1a2e10fe0ba60517574a680d5f8f586ea98a444751e.jpg\n",
      "train_images_cropped_downsampled/3/105_9077544f3d85a1a2e10fe0ba60517574a680d5f8f586ea98a444751e.jpg\n",
      "657 b609bd2a5f14f55c585ccb34e3ef5c59f92a7c8fa85f9f79006e623f.jpg\n",
      "D:\\Documents\\ML Projects\\Datasets\\AMFED\\Manually_Annotated_Images\\657\\b609bd2a5f14f55c585ccb34e3ef5c59f92a7c8fa85f9f79006e623f.jpg\n",
      "train_images_cropped_downsampled/5/657_b609bd2a5f14f55c585ccb34e3ef5c59f92a7c8fa85f9f79006e623f.jpg\n",
      "505 3ca39655e2938cd73ea27083b03d8abd7d0d1f6e58d239bb56afecf6.jpg\n",
      "D:\\Documents\\ML Projects\\Datasets\\AMFED\\Manually_Annotated_Images\\505\\3ca39655e2938cd73ea27083b03d8abd7d0d1f6e58d239bb56afecf6.jpg\n",
      "train_images_cropped_downsampled/6/505_3ca39655e2938cd73ea27083b03d8abd7d0d1f6e58d239bb56afecf6.jpg\n"
     ]
    }
   ],
   "source": [
    "temp_df[\"image_location\"] = temp_df.apply(lambda row: generate_color_pixels(row['subDirectory_filePath'],row['face_x'],row['face_y'],row['face_width'],row['face_height'],row['expression']), axis = 1)"
   ]
  },
  {
   "cell_type": "code",
   "execution_count": 12,
   "metadata": {
    "collapsed": false,
    "deletable": true,
    "editable": true
   },
   "outputs": [
    {
     "data": {
      "text/plain": [
       "3101245"
      ]
     },
     "execution_count": 12,
     "metadata": {},
     "output_type": "execute_result"
    }
   ],
   "source": [
    "# down_sampled_train_set.memory_usage(deep=True,index=True).sum()"
   ]
  },
  {
   "cell_type": "code",
   "execution_count": 28,
   "metadata": {
    "collapsed": false,
    "deletable": true,
    "editable": true
   },
   "outputs": [],
   "source": [
    "# def create_pixels_train_set(expression, path):\n",
    "#     path = path.replace(\"/\",\"_\")\n",
    "#     path = \"train_images_cropped/\"+str(expression)+\"/\"+path\n",
    "#     image = cv2.imread(path,cv2.IMREAD_GRAYSCALE)\n",
    "#     image = image.flatten()\n",
    "#     return list(image)"
   ]
  },
  {
   "cell_type": "code",
   "execution_count": 33,
   "metadata": {
    "collapsed": false,
    "deletable": true,
    "editable": true
   },
   "outputs": [],
   "source": [
    "# temp_df[\"pixels\"] = temp_df.apply(lambda row: create_pixels_train_set(row['expression'],row['subDirectory_filePath']), axis = 1)"
   ]
  },
  {
   "cell_type": "code",
   "execution_count": 7,
   "metadata": {
    "collapsed": true,
    "deletable": true,
    "editable": true
   },
   "outputs": [],
   "source": [
    "image = cv2.imread(\"D:\\\\Documents\\\\ML Projects\\\\Datasets\\\\AMFED\\\\experiment_images/2.jpg\")"
   ]
  },
  {
   "cell_type": "code",
   "execution_count": 9,
   "metadata": {
    "collapsed": false,
    "deletable": true,
    "editable": true
   },
   "outputs": [
    {
     "data": {
      "text/plain": [
       "True"
      ]
     },
     "execution_count": 9,
     "metadata": {},
     "output_type": "execute_result"
    }
   ],
   "source": [
    "cv2.imwrite(\"experiment_images/2_edited.jpg\",image)"
   ]
  },
  {
   "cell_type": "code",
   "execution_count": 7,
   "metadata": {
    "collapsed": false,
    "deletable": true,
    "editable": true
   },
   "outputs": [
    {
     "data": {
      "text/plain": [
       "True"
      ]
     },
     "execution_count": 7,
     "metadata": {},
     "output_type": "execute_result"
    }
   ],
   "source": [
    "cv2.imwrite(\"D:\\\\1_edited.jpg\",image)"
   ]
  },
  {
   "cell_type": "code",
   "execution_count": 6,
   "metadata": {
    "collapsed": false,
    "deletable": true,
    "editable": true
   },
   "outputs": [
    {
     "data": {
      "text/plain": [
       "(647, 647, 3)"
      ]
     },
     "execution_count": 6,
     "metadata": {},
     "output_type": "execute_result"
    }
   ],
   "source": [
    "image.shape"
   ]
  },
  {
   "cell_type": "code",
   "execution_count": 15,
   "metadata": {
    "collapsed": false,
    "deletable": true,
    "editable": true
   },
   "outputs": [],
   "source": [
    "my_str = \"1063/d58cf2\"\n",
    "a, b = my_str.split(\"/\")"
   ]
  },
  {
   "cell_type": "code",
   "execution_count": 16,
   "metadata": {
    "collapsed": false,
    "deletable": true,
    "editable": true
   },
   "outputs": [
    {
     "data": {
      "text/plain": [
       "'1063'"
      ]
     },
     "execution_count": 16,
     "metadata": {},
     "output_type": "execute_result"
    }
   ],
   "source": [
    "a"
   ]
  },
  {
   "cell_type": "code",
   "execution_count": 26,
   "metadata": {
    "collapsed": false,
    "deletable": true,
    "editable": true
   },
   "outputs": [
    {
     "name": "stdout",
     "output_type": "stream",
     "text": [
      "neeraj\n"
     ]
    }
   ],
   "source": [
    "print(\"neeraj\")"
   ]
  },
  {
   "cell_type": "code",
   "execution_count": null,
   "metadata": {
    "collapsed": true,
    "deletable": true,
    "editable": true
   },
   "outputs": [],
   "source": []
  }
 ],
 "metadata": {
  "anaconda-cloud": {},
  "kernelspec": {
   "display_name": "Python [conda env:aind-dog]",
   "language": "python",
   "name": "conda-env-aind-dog-py"
  },
  "language_info": {
   "codemirror_mode": {
    "name": "ipython",
    "version": 3
   },
   "file_extension": ".py",
   "mimetype": "text/x-python",
   "name": "python",
   "nbconvert_exporter": "python",
   "pygments_lexer": "ipython3",
   "version": "3.5.3"
  }
 },
 "nbformat": 4,
 "nbformat_minor": 2
}
